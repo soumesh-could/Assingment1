{
 "cells": [
  {
   "cell_type": "code",
   "execution_count": 1,
   "id": "a9fc12c3",
   "metadata": {},
   "outputs": [
    {
     "name": "stdout",
     "output_type": "stream",
     "text": [
      "Enter kms to be converted: 245\n",
      "Result is  152.26848974518336\n"
     ]
    }
   ],
   "source": [
    "def kmsToMiles(inp):\n",
    "    res=inp/1.609\n",
    "    return res\n",
    "\n",
    "\n",
    "n=int(input(\"Enter kms to be converted: \"))\n",
    "ans=kmsToMiles(n)\n",
    "print(\"Result is \",ans)"
   ]
  },
  {
   "cell_type": "code",
   "execution_count": 5,
   "id": "faabdf60",
   "metadata": {},
   "outputs": [
    {
     "name": "stdout",
     "output_type": "stream",
     "text": [
      "Enter temperature in Celcius99\n",
      "The temperature in Fahrenheit is  210.2\n"
     ]
    }
   ],
   "source": [
    "\n",
    "\n",
    "def celToFar(n):\n",
    "    res=(n*9)/5 + 32\n",
    "    return res\n",
    "\n",
    "n=int(input(\"Enter temperature in Celcius\"))\n",
    "ans=celToFar(n)\n",
    "print(\"The temperature in Fahrenheit is \",ans)\n"
   ]
  },
  {
   "cell_type": "code",
   "execution_count": 7,
   "id": "16d314ce",
   "metadata": {},
   "outputs": [
    {
     "name": "stdout",
     "output_type": "stream",
     "text": [
      "Enter a number: -6\n",
      "The number is negative\n"
     ]
    }
   ],
   "source": [
    "def check(n):\n",
    "    if(n>0):\n",
    "        print(\"The number is positive\")\n",
    "    elif(n<0):\n",
    "        print(\"The number is negative\")\n",
    "    else:\n",
    "        print(\"The number is 0\")\n",
    "        \n",
    "n=int(input(\"Enter a number: \"))\n",
    "check(n)"
   ]
  },
  {
   "cell_type": "code",
   "execution_count": 8,
   "id": "64af43db",
   "metadata": {},
   "outputs": [
    {
     "name": "stdout",
     "output_type": "stream",
     "text": [
      "Enter a number: 78\n",
      "The number is even\n"
     ]
    }
   ],
   "source": [
    "def check(n):\n",
    "    if(n%2==0):\n",
    "        print(\"The number is even\")\n",
    "    else:\n",
    "        print(\"The number is odd\")\n",
    "\n",
    "n=int(input(\"Enter a number: \"))\n",
    "check(n)"
   ]
  },
  {
   "cell_type": "code",
   "execution_count": 9,
   "id": "93de3c2b",
   "metadata": {},
   "outputs": [
    {
     "name": "stdout",
     "output_type": "stream",
     "text": [
      "Enter a year: 2000\n",
      "It is a leap year\n"
     ]
    }
   ],
   "source": [
    "def leapYear(n):\n",
    "    if(n % 4 == 0 and n % 100 !=0):\n",
    "        print(\"It is a leap year\")\n",
    "    elif(n % 400 == 0):\n",
    "        print(\"It is a leap year\")\n",
    "    else:\n",
    "        print(\"It is not a leap year\")\n",
    "\n",
    "n=int(input(\"Enter a year: \"))\n",
    "leapYear(n)"
   ]
  },
  {
   "cell_type": "code",
   "execution_count": 10,
   "id": "57c4f14d",
   "metadata": {},
   "outputs": [
    {
     "name": "stdout",
     "output_type": "stream",
     "text": [
      "Enter 3 numbers: 56 44 33\n",
      "56 is the largest among the three\n"
     ]
    }
   ],
   "source": [
    "def largestNo(n1,n2,n3):\n",
    "    if(n1>n2 and n1>n3):\n",
    "        print(f'{n1} is the largest among the three')\n",
    "    elif(n2>n1 and n2>n3):\n",
    "        print(f'{n2} is the largest among the three')\n",
    "    else:\n",
    "        print(f'{n3} is the largest among the three')\n",
    "\n",
    "x = (input(\"Enter 3 numbers: \").split())\n",
    "\n",
    "a = int(x[0])\n",
    "b = int(x[1])\n",
    "c = int(x[2])\n",
    "largestNo(a,b,c)"
   ]
  },
  {
   "cell_type": "code",
   "execution_count": null,
   "id": "f328c41c",
   "metadata": {},
   "outputs": [],
   "source": []
  }
 ],
 "metadata": {
  "kernelspec": {
   "display_name": "Python 3",
   "language": "python",
   "name": "python3"
  },
  "language_info": {
   "codemirror_mode": {
    "name": "ipython",
    "version": 3
   },
   "file_extension": ".py",
   "mimetype": "text/x-python",
   "name": "python",
   "nbconvert_exporter": "python",
   "pygments_lexer": "ipython3",
   "version": "3.8.8"
  }
 },
 "nbformat": 4,
 "nbformat_minor": 5
}
